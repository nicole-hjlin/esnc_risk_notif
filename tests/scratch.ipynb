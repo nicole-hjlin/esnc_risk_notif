{
 "cells": [
  {
   "cell_type": "markdown",
   "metadata": {},
   "source": [
    "## test sending emails"
   ]
  },
  {
   "cell_type": "markdown",
   "metadata": {},
   "source": [
    "1. all addresses must be string objects separated with commas\n",
    "2. if passed an invalid email address, the error message will be sent to the from addr"
   ]
  },
  {
   "cell_type": "code",
   "execution_count": null,
   "metadata": {},
   "outputs": [],
   "source": [
    "from email.mime.multipart import MIMEMultipart\n",
    "from email.mime.text import MIMEText\n",
    "import smtplib, ssl\n",
    "\n",
    "import pandas as pd \n",
    "import numpy as np\n",
    "import os"
   ]
  },
  {
   "cell_type": "code",
   "execution_count": null,
   "metadata": {},
   "outputs": [],
   "source": [
    "msg = MIMEMultipart('alternative')\n",
    "msg['Subject'] = 'test'\n",
    "msg.attach(MIMEText('<p>this is a test run</p>', 'html'))\n",
    "\n",
    "# all msg addresses expect a string object separated with commas\n",
    "msg['From'] = os.getenv('REGLAB_TEST_GMAIL_ADDR')\n",
    "# if passed an invalid email address, the error message will be sent to the from addr\n",
    "msg['To'] = 'nlin@law.stanford.edu, nicole.hjlin@gmail.com, sdklfrankl238@gmail.com'\n",
    "msg['Bcc'] = 'reglabtest@gmail.com'\n",
    "password = os.getenv('REGLAB_TEST_GMAIL_PWD')\n",
    "port = 465  # For SSL\n",
    "smtp_server = \"smtp.gmail.com\"\n",
    "context = ssl.create_default_context()\n",
    "\n",
    "with smtplib.SMTP_SSL(smtp_server, port, context=context) as server:\n",
    "    server.login(msg['From'], password)\n",
    "    server.send_message(msg)"
   ]
  },
  {
   "cell_type": "markdown",
   "metadata": {},
   "source": [
    "## testing email sending systems"
   ]
  },
  {
   "cell_type": "code",
   "execution_count": null,
   "metadata": {},
   "outputs": [],
   "source": [
    "system = 'sherlock'\n",
    "assert system in ['sherlock', 'whippet'], 'Expect system to be in sherlock or whippet. Aborting.'"
   ]
  },
  {
   "cell_type": "markdown",
   "metadata": {},
   "source": [
    "## copy prod folders to test folder for testing on whippet "
   ]
  },
  {
   "cell_type": "code",
   "execution_count": null,
   "metadata": {},
   "outputs": [],
   "source": [
    "import os\n",
    "import subprocess\n",
    "import boto3\n",
    "\n",
    "## S3 bucket Connection\n",
    "BUCKET_NAME = 'epa-esnc-notif'\n",
    "BUCKET_ACCESS_ID = os.getenv('REGLAB_AWS_ACCESS_ID')\n",
    "BUCKET_ACCESS_KEY = os.getenv('REGLAB_AWS_ACCESS_KEY')\n",
    "S3_RESOURCE = boto3.resource(service_name='s3')\n",
    "BUCKET = S3_RESOURCE.Bucket(BUCKET_NAME)\n",
    "## S3 bucket\n",
    "S3_PROJECT_DIR = os.path.join('s3://', BUCKET_NAME)"
   ]
  },
  {
   "cell_type": "code",
   "execution_count": null,
   "metadata": {},
   "outputs": [],
   "source": [
    "s3_project_dir = S3_PROJECT_DIR \n",
    "run_id = '2021Q4_2021-08-04_140828_785316'\n",
    "os.system(f'aws s3 cp {s3_project_dir}/prod/ {s3_project_dir}/test/ --recursive')"
   ]
  },
  {
   "cell_type": "markdown",
   "metadata": {},
   "source": [
    "## generating ky batch report as pdf "
   ]
  },
  {
   "cell_type": "code",
   "execution_count": null,
   "metadata": {},
   "outputs": [],
   "source": [
    "# first set working directory as where the 0_email_maker will sit\n",
    "import os \n",
    "\n",
    "os.chdir('..')\n",
    "os.getcwd()"
   ]
  },
  {
   "cell_type": "code",
   "execution_count": null,
   "metadata": {},
   "outputs": [],
   "source": [
    "import os\n",
    "import pandas as pd\n",
    "# import supporting modules\n",
    "import configs"
   ]
  },
  {
   "cell_type": "code",
   "execution_count": null,
   "metadata": {},
   "outputs": [],
   "source": [
    "mode = 'prod'\n",
    "run_id = '2021Q4_2021-08-04_140828_785316'\n",
    "oak_project_dir = configs.GET_OAK_PROJECT_DIR()\n",
    "oak_run_dir = os.path.join(oak_project_dir, mode, run_id)"
   ]
  },
  {
   "cell_type": "code",
   "execution_count": null,
   "metadata": {},
   "outputs": [],
   "source": [
    "ky_report = pd.read_csv(os.path.join(oak_run_dir, 'batch_report_ky.csv'))\n",
    "ky_report.head()"
   ]
  },
  {
   "cell_type": "code",
   "execution_count": null,
   "metadata": {},
   "outputs": [],
   "source": [
    "ky_report.iloc[0]"
   ]
  },
  {
   "cell_type": "code",
   "execution_count": null,
   "metadata": {},
   "outputs": [],
   "source": [
    "import html2text\n",
    "from IPython.core.display import display, HTML\n",
    "display(HTML(ky_report.iloc[0]['body']))"
   ]
  },
  {
   "cell_type": "code",
   "execution_count": null,
   "metadata": {},
   "outputs": [],
   "source": [
    "import fpdf \n",
    "\n",
    "pdf = fpdf.FPDF(format = 'letter')\n",
    "pdf.add_page()\n",
    "pdf.set_font('Arial', size = 12)\n",
    "\n",
    "i = 0 \n",
    "email = ky_report.iloc[i]\n",
    "pdf.write(\"npdes_permit_id: \")\n",
    "pdf.ln()\n",
    "pdf.output('test.pdf')"
   ]
  },
  {
   "cell_type": "code",
   "execution_count": null,
   "metadata": {},
   "outputs": [],
   "source": [
    "ky_report.iloc[0]"
   ]
  },
  {
   "cell_type": "code",
   "execution_count": null,
   "metadata": {},
   "outputs": [],
   "source": [
    "ky_report.to_html()"
   ]
  },
  {
   "cell_type": "markdown",
   "metadata": {},
   "source": [
    "## KY correction 2021 Q4 \n",
    "manually select a pollutant to display for permits notified with no violations in the past quarter"
   ]
  },
  {
   "cell_type": "code",
   "execution_count": null,
   "metadata": {},
   "outputs": [],
   "source": [
    "# first set working directory as where the 0_email_maker will sit\n",
    "import os \n",
    "\n",
    "os.chdir('..')\n",
    "os.getcwd()"
   ]
  },
  {
   "cell_type": "code",
   "execution_count": null,
   "metadata": {},
   "outputs": [],
   "source": [
    "import os\n",
    "import pandas as pd\n",
    "import sqlalchemy as sa\n",
    "import datetime as dt\n",
    "import configs"
   ]
  },
  {
   "cell_type": "code",
   "execution_count": null,
   "metadata": {},
   "outputs": [],
   "source": [
    "engine = configs.GET_ENGINE()"
   ]
  },
  {
   "cell_type": "code",
   "execution_count": null,
   "metadata": {},
   "outputs": [],
   "source": [
    "query = \"\"\"\n",
    "SELECT\n",
    "  npdes_permit_id,\n",
    "  known_violations\n",
    "FROM\n",
    "  sandbox.esnc_notif_at_risk_permits\n",
    "WHERE\n",
    "  permit_state = 'KY'\n",
    "  AND notification_flag\n",
    "  AND NOT sample_violation_flag\n",
    "\"\"\"\n",
    "with engine.begin() as conn:\n",
    "    df = pd.read_sql(query, conn)\n",
    "df"
   ]
  },
  {
   "cell_type": "code",
   "execution_count": null,
   "metadata": {},
   "outputs": [],
   "source": [
    "for i in range(len(df)):    \n",
    "    viol_list = eval(df.known_violations[i])\n",
    "    viol_df = pd.DataFrame(viol_list)\n",
    "    viol_df = viol_df.sort_values(by = 'monitoring_period_end_date', ascending = False)\n",
    "    print(viol_df.iloc[0]['monitoring_period_end_date'])"
   ]
  },
  {
   "cell_type": "markdown",
   "metadata": {},
   "source": [
    "## Generate emails as PDFs for KY\n",
    "- read in batch report\n",
    "- compile emails in html format \n",
    "- print out pdfs"
   ]
  },
  {
   "cell_type": "code",
   "execution_count": null,
   "metadata": {},
   "outputs": [],
   "source": [
    "# first set working directory as where the 0_email_maker will sit\n",
    "import os \n",
    "\n",
    "os.chdir('..')\n",
    "os.getcwd()"
   ]
  },
  {
   "cell_type": "code",
   "execution_count": null,
   "metadata": {},
   "outputs": [],
   "source": [
    "# import installed packages\n",
    "import os\n",
    "import pdfkit\n",
    "import numpy as np\n",
    "import pandas as pd\n",
    "import configs"
   ]
  },
  {
   "cell_type": "code",
   "execution_count": null,
   "metadata": {},
   "outputs": [],
   "source": [
    "def generate_email_pdfs(run_id, mode, batch_report_file_name):\n",
    "    oak_project_dir = configs.GET_OAK_PROJECT_DIR()\n",
    "    oak_run_dir = os.path.join(oak_project_dir, mode, run_id)\n",
    "    batch_report = pd.read_csv(os.path.join(oak_run_dir, batch_report_file_name))\n",
    "    batch_report = batch_report.sort_values(by = 'npdes_permit_id')\n",
    "    html_str = \"\"\n",
    "    for i in range(len(batch_report)):\n",
    "        email = batch_report.iloc[i]\n",
    "        html_str_i = f\"\"\"\n",
    "        <meta http-equiv=\"Content-type\" content=\"text/html; charset=UTF-8\" />\n",
    "        <p style=\"page-break-before: always;\"></p>\n",
    "        <p><b>Subject:</b> {email['subject']}</p>\n",
    "        <p><b>From:</b> {email['email_sent_from_addr']}</p>\n",
    "        <p><b>To:</b> {email['email_sent_to_addr']}</p>\n",
    "        <p><b>Timestamp:</b> {email['email_sent_timestamp']} EST</p>\n",
    "        <hr>\n",
    "        {email['body']}\n",
    "        \"\"\"\n",
    "        html_str = html_str + html_str_i\n",
    "    pdfkit.from_string(html_str, os.path.join(oak_run_dir, batch_report_file_name.replace('.csv', '.pdf')))"
   ]
  },
  {
   "cell_type": "code",
   "execution_count": null,
   "metadata": {},
   "outputs": [],
   "source": [
    "generate_email_pdfs(run_id = '2021Q4_2021-08-04_140828_785316', mode = 'prod', batch_report_file_name = 'batch_report_ky.csv')"
   ]
  },
  {
   "cell_type": "code",
   "execution_count": null,
   "metadata": {},
   "outputs": [],
   "source": [
    "generate_email_pdfs(run_id = 'ky_correction_2021Q4_2021-08-06_130754_810831', mode = 'prod', batch_report_file_name = 'batch_report_ky.csv')"
   ]
  },
  {
   "cell_type": "markdown",
   "metadata": {},
   "source": [
    "### Generate emails as pdfs for TN"
   ]
  },
  {
   "cell_type": "code",
   "execution_count": null,
   "metadata": {},
   "outputs": [],
   "source": [
    "# first set working directory as where the 0_email_maker will sit\n",
    "import os \n",
    "\n",
    "os.chdir('..')\n",
    "os.getcwd()"
   ]
  },
  {
   "cell_type": "code",
   "execution_count": null,
   "metadata": {},
   "outputs": [],
   "source": [
    "# import installed packages\n",
    "import os\n",
    "import pdfkit\n",
    "import numpy as np\n",
    "import pandas as pd"
   ]
  },
  {
   "cell_type": "code",
   "execution_count": null,
   "metadata": {},
   "outputs": [],
   "source": [
    "mode = 'prod'\n",
    "run_id = '2021Q4_2021-08-04_140828_785316'\n",
    "batch_report_file_name = 'batch_report_tn-2021_08_04.csv'"
   ]
  },
  {
   "cell_type": "code",
   "execution_count": null,
   "metadata": {},
   "outputs": [],
   "source": [
    "oak_project_dir = '../esnc_risk_notif_processing/'\n",
    "oak_run_dir = os.path.join(oak_project_dir, mode, run_id)\n",
    "batch_report = pd.read_csv(os.path.join(oak_run_dir, batch_report_file_name))\n",
    "batch_report = batch_report.sort_values(by = 'npdes_permit_id')\n",
    "html_str = \"\"\n",
    "for i in range(len(batch_report)):\n",
    "    email = batch_report.iloc[i]\n",
    "    html_str_i = f\"\"\"\n",
    "    <meta http-equiv=\"Content-type\" content=\"text/html; charset=UTF-8\" />\n",
    "    <p style=\"page-break-before: always;\"></p>\n",
    "    <p><b>Subject:</b> {email['subject']}</p>\n",
    "    <p><b>From:</b> {email['email_sent_from_addr']}</p>\n",
    "    <p><b>To:</b> {email['email_sent_to_addr']}</p>\n",
    "    <p><b>Timestamp:</b> {email['email_sent_timestamp']} EST</p>\n",
    "    <hr>\n",
    "    {email['body']}\n",
    "    \"\"\"\n",
    "    html_str = html_str + html_str_i\n",
    "pdfkit.from_string(html_str, os.path.join(oak_run_dir, batch_report_file_name.replace('.csv', '.pdf')))"
   ]
  }
 ],
 "metadata": {
  "kernelspec": {
   "display_name": "Python 3 (ipykernel)",
   "language": "python",
   "name": "python3"
  },
  "language_info": {
   "codemirror_mode": {
    "name": "ipython",
    "version": 3
   },
   "file_extension": ".py",
   "mimetype": "text/x-python",
   "name": "python",
   "nbconvert_exporter": "python",
   "pygments_lexer": "ipython3",
   "version": "3.9.12"
  }
 },
 "nbformat": 4,
 "nbformat_minor": 4
}
