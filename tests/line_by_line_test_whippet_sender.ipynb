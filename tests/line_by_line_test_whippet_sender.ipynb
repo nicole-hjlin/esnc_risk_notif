{
 "cells": [
  {
   "cell_type": "markdown",
   "metadata": {},
   "source": [
    "# Line-by-line Test of the Whippet Sender\n",
    "\n",
    "This is a notebook that tests the main script 1_whippet_sender line by line with outputs for the purpose of debugging. The main script follows these steps:\n",
    "\n",
    "1. import installed packages and supporting modules\n",
    "2. set up directories and logging\n",
    "3. read email files from s3 bucket\n",
    "4. send email from whippet \n",
    "5. generate batch report \n",
    "6. save batch report to s3 bucket \n",
    "7. save logging file\n",
    "\n",
    "This notebook tests each of the code block and validates outputs.\n",
    "\n",
    "## Prerequisites for replication:\n",
    "1. must have Sherlock OAK and GROUP_SCRATCH mounted on your local machine, see guide.\n",
    "2. must have saved OAK and GROUP_SCRATCH as environment variables in your .bash_profile or .zshrc file. For example, \n",
    "```\n",
    "# sherlock directories\n",
    "export OAK=\"~/sherlock_oak\"\n",
    "export GROUP_SCRATCH=\"~/sherlock_group_scratch\"\n",
    "```\n",
    "3. must have the esnc_risk_notif git repo cloned to our local machine\n",
    "4. must have access to reglab's testing gmail account (`reglabtest@gmail.com`) and have saved REGLAB_TEST_GMAIL_ADDR and REGLAB_TEST_GMAIL_PWD as environment variables in your local `.bash_profile` or `.zshrc` file. Reach out to Nicole Lin (nlin@law.stanford.edu) for access.\n",
    "5. must have set up AWS web service and saved access key id and access key. See [this guide](https://realpython.com/python-boto3-aws-s3/).\n"
   ]
  },
  {
   "cell_type": "code",
   "execution_count": null,
   "metadata": {},
   "outputs": [],
   "source": [
    "# first set working directory as where the 0_email_maker will sit\n",
    "import os \n",
    "\n",
    "os.chdir('..')\n",
    "os.getcwd()"
   ]
  },
  {
   "cell_type": "markdown",
   "metadata": {},
   "source": [
    "### Step 1: import packages\n",
    "\n",
    "In this step, we are checking whether all the required modules have been installed in the environment. "
   ]
  },
  {
   "cell_type": "code",
   "execution_count": null,
   "metadata": {},
   "outputs": [],
   "source": [
    "# import installed packages\n",
    "import os\n",
    "import pandas as pd\n",
    "import datetime as dt\n",
    "import logging\n",
    "\n",
    "## for s3 connection\n",
    "import boto3\n",
    "import subprocess\n",
    "\n",
    "## for emailer\n",
    "from email.mime.multipart import MIMEMultipart\n",
    "from email.mime.text import MIMEText\n",
    "import smtplib, ssl\n",
    "\n",
    "# import supporting modules\n",
    "import configs\n",
    "from utilities import json_functions"
   ]
  },
  {
   "cell_type": "code",
   "execution_count": null,
   "metadata": {},
   "outputs": [],
   "source": [
    "# set parsed arguments\n",
    "mode = 'test'\n",
    "run_id = '2021Q4_2021-08-03_170618_610692'\n",
    "system = 'sherlock'"
   ]
  },
  {
   "cell_type": "markdown",
   "metadata": {},
   "source": [
    "### Step 2: set up directories and logging\n",
    "\n",
    "In this step, we are configuring directories and logging file. We should expect to see global variables from `configs` read correctly and the logging file prints out relevant lines. "
   ]
  },
  {
   "cell_type": "markdown",
   "metadata": {},
   "source": [
    "#### code block"
   ]
  },
  {
   "cell_type": "code",
   "execution_count": null,
   "metadata": {},
   "outputs": [],
   "source": [
    "print(configs.HELPER_TEXT_WHIPPET_SENDER)\n",
    "print(\"===== Start running whippet sender =====\")\n",
    "\n",
    "# ## get parsed variables\n",
    "# args = get_args()\n",
    "# mode = args.mode\n",
    "# run_id = args.run_id\n",
    "# system = args.system\n",
    "# assert mode in ['test', 'prod'], 'Expect mode to be in test or prod. Aborting.'\n",
    "# assert system in ['sherlock', 'whippet'], 'Expect system to be in sherlock or whippet. Aborting.'\n",
    "\n",
    "## get global variables\n",
    "bucket = configs.BUCKET\n",
    "s3_project_dir = configs.S3_PROJECT_DIR\n",
    "prod_from_addr = configs.PROD_FROM_ADDR\n",
    "test_from_addr = configs.TEST_FROM_ADDR\n",
    "test_to_addr = configs.TEST_TO_ADDR\n",
    "test_addr_pwd = configs.TEST_ADDR_PWD\n",
    "test_bcc_addr = configs.TEST_BCC_ADDR  \n",
    "\n",
    "## set directories based on mode and run_id \n",
    "s3_run_dir = os.path.join(mode, run_id)\n",
    "s3_emails_dir = os.path.join(s3_run_dir, 'emails')\n",
    "s3_log_dir = os.path.join(s3_run_dir, 'logs')"
   ]
  },
  {
   "cell_type": "code",
   "execution_count": null,
   "metadata": {
    "scrolled": true
   },
   "outputs": [],
   "source": [
    "## configure logging\n",
    "logger, log_capture_string = configs.configure_logging(logger_name = 'whippet_sender')\n",
    "logger.info(configs.HELPER_TEXT_WHIPPET_SENDER)\n",
    "logger.info(\"Configured logger\")\n",
    "logger.info(\"----- Parsed variables: mode = {}, run_id = {}\".format(mode, run_id))\n",
    "logger.info(\"----- S3 bucket: s3_project_dir = {}, s3_run_dir = {}\".format(s3_project_dir, s3_run_dir))\n",
    "logger.info(\"----- From email address: {}\".format(test_from_addr if mode == 'test' else prod_from_addr))\n",
    "logger.info(\"----- To email address: {}\".format(test_to_addr if mode == 'test' else 'facility addresses'))"
   ]
  },
  {
   "cell_type": "code",
   "execution_count": null,
   "metadata": {},
   "outputs": [],
   "source": [
    "## print out variables and let the user confirm if they are correct and wish to proceed. \n",
    "print(\"----- Parsed variables: mode = {}, run_id = {}\".format(mode, run_id))\n",
    "print(\"----- S3 bucket: s3_project_dir = {}, s3_run_dir = {}\".format(s3_project_dir, s3_run_dir))\n",
    "print(\"----- From email address: {}\".format(test_from_addr if mode == 'test' else prod_from_addr))\n",
    "print(\"----- To email address: {}\".format(test_to_addr if mode == 'test' else 'facility addresses'))\n",
    "\n",
    "proceed = input('Please verify the above variables. Do you wish to proceed with the run? [y/n]')"
   ]
  },
  {
   "cell_type": "markdown",
   "metadata": {},
   "source": [
    "#### validate outputs"
   ]
  },
  {
   "cell_type": "code",
   "execution_count": null,
   "metadata": {},
   "outputs": [],
   "source": [
    "print(log_capture_string.getvalue())"
   ]
  },
  {
   "cell_type": "markdown",
   "metadata": {},
   "source": [
    "### Step 3: read email files from s3 bucket\n",
    "\n",
    "In this step, we read emails as json files from s3 bucket. We should expect to see each email file as a dictionary when it is read into the program. "
   ]
  },
  {
   "cell_type": "markdown",
   "metadata": {},
   "source": [
    "#### code block"
   ]
  },
  {
   "cell_type": "code",
   "execution_count": null,
   "metadata": {},
   "outputs": [],
   "source": [
    "logger.info('====== 1/7 Reading email files from s3 bucket =======')\n",
    "email_dicts = json_functions.read_emails_from_json(s3_emails_dir, s3=True, bucket=bucket)"
   ]
  },
  {
   "cell_type": "markdown",
   "metadata": {},
   "source": [
    "#### validate outputs"
   ]
  },
  {
   "cell_type": "code",
   "execution_count": null,
   "metadata": {},
   "outputs": [],
   "source": [
    "email_dicts[0]"
   ]
  },
  {
   "cell_type": "markdown",
   "metadata": {},
   "source": [
    "### Step 4: send email from whippet\n",
    "\n",
    "In this step, we are sending emails from whippet. In test mode, we are sending out emails from Sherlock with a test email. We should expect to see sample emails sent to `reglabtest@gmail.com` and `nlin@law.stanford.edu`."
   ]
  },
  {
   "cell_type": "markdown",
   "metadata": {},
   "source": [
    "#### code block"
   ]
  },
  {
   "cell_type": "code",
   "execution_count": null,
   "metadata": {},
   "outputs": [],
   "source": [
    "logger.info('====== 2/7 Generating email objects with dictionaries =======')\n",
    "notif_permits = [e['npdes_permit_id'] for e in email_dicts]\n",
    "logger.info(f'for the following permit ids (totalling {len(notif_permits)} permits): {notif_permits}')"
   ]
  },
  {
   "cell_type": "code",
   "execution_count": null,
   "metadata": {},
   "outputs": [],
   "source": [
    "# compile emails\n",
    "for email in email_dicts:\n",
    "    logger.info(f\"Compiling email for {email['npdes_permit_id']}\")\n",
    "    msg = MIMEMultipart('alternative')\n",
    "    msg['Subject'] = email['subject']\n",
    "    msg.attach(MIMEText(email['header'] + email['body'], 'html'))\n",
    "    email['whippet_sender_mode'] = mode\n",
    "    email['sender_system'] = system\n",
    "\n",
    "    # send emails\n",
    "    logger.info(f'Sending email to test email address {test_to_addr}')\n",
    "    if mode == 'test':\n",
    "        msg['To'] = test_to_addr\n",
    "        msg['BCC'] = test_bcc_addr\n",
    "\n",
    "        # sending out from sherlock: using a test gmail account\n",
    "        if system == 'sherlock': \n",
    "            msg['From'] = test_from_addr\n",
    "            password = test_addr_pwd\n",
    "            port = 465  # For SSL\n",
    "            smtp_server = \"smtp.gmail.com\"\n",
    "            context = ssl.create_default_context()\n",
    "            with smtplib.SMTP_SSL(smtp_server, port, context=context) as server:\n",
    "                server.login(msg['From'], password)\n",
    "                server.send_message(msg)\n",
    "\n",
    "        # sending out from whippet: using epa's production email \n",
    "        ## to be tested on whippet\n",
    "        if system == 'whippet':\n",
    "            msg['From'] = prod_from_addr\n",
    "            with smtplib.SMTP('localhost', port=25) as server: \n",
    "                server.send_message(msg)\n",
    "\n",
    "    elif mode == 'prod':\n",
    "        msg['From'] = prod_from_addr\n",
    "        msg['To'] = email['to_addrs']\n",
    "        msg['BCC'] = email['bcc_addrs']\n",
    "\n",
    "        with smtplib.SMTP('localhost', port=25) as server: \n",
    "            server.send_message(msg)\n",
    "\n",
    "    email['email_sent_timestamp'] = dt.datetime.now()\n",
    "    email['email_sent_from_addr'] = msg['From']\n",
    "    email['email_sent_to_addr'] = msg['To']\n",
    "    email['bcc_addrs'] = msg['BCC']"
   ]
  },
  {
   "cell_type": "markdown",
   "metadata": {},
   "source": [
    "#### validate outputs"
   ]
  },
  {
   "cell_type": "markdown",
   "metadata": {},
   "source": [
    "emails sent to nlin@law.stanford.edu and reglabtest@gmail.com"
   ]
  },
  {
   "cell_type": "markdown",
   "metadata": {},
   "source": [
    "### Step 5: generate batch report\n",
    "\n",
    "In this step, we generate the batch report from sending the emails. We should expect to see if the dataframe reads correctly. "
   ]
  },
  {
   "cell_type": "markdown",
   "metadata": {},
   "source": [
    "#### code block"
   ]
  },
  {
   "cell_type": "code",
   "execution_count": null,
   "metadata": {},
   "outputs": [],
   "source": [
    "logger.info('====== 4/7 Generating batch report as dataframe =======')\n",
    "cols = ['npdes_permit_id', \n",
    "        'fiscal_quarter', \n",
    "        'to_addrs', \n",
    "        'bcc_addrs',\n",
    "        'whippet_sender_mode',\n",
    "        'system',\n",
    "        'email_sent_timestamp',\n",
    "        'email_sent_from_addr',\n",
    "        'email_sent_to_addr',\n",
    "        'email_template',\n",
    "        'subject',\n",
    "        'header',\n",
    "        'body'\n",
    "       ]\n",
    "batch_report = pd.DataFrame(email_dicts)[cols]"
   ]
  },
  {
   "cell_type": "markdown",
   "metadata": {},
   "source": [
    "#### validate outputs"
   ]
  },
  {
   "cell_type": "code",
   "execution_count": null,
   "metadata": {},
   "outputs": [],
   "source": [
    "batch_report.head()"
   ]
  },
  {
   "cell_type": "markdown",
   "metadata": {},
   "source": [
    "### Step 6: save batch report to s3 bucket\n",
    "\n",
    "In this step, we save the batch repot to s3 bucket as csv files. Note that KY has requested the batch report sent to their state representatives each quarter, so we generate a batch report specific to KY and save it as a separate file. We should expect to retrieve the batch reports saved to the s3 bucket. "
   ]
  },
  {
   "cell_type": "markdown",
   "metadata": {},
   "source": [
    "#### code block"
   ]
  },
  {
   "cell_type": "code",
   "execution_count": null,
   "metadata": {},
   "outputs": [],
   "source": [
    "logger.info('======= 5/7 Saving batch report to s3 bucket ========')\n",
    "batch_report.to_csv(os.path.join(s3_project_dir, s3_run_dir,'batch_report.csv'), index = False)\n",
    "\n",
    "logger.info('======= 6/7 Subset and save KY batch report to s3 bucket ======')\n",
    "ky_batch_report = batch_report[batch_report.npdes_permit_id.str.startswith('KY')]\n",
    "ky_batch_report.to_csv(os.path.join(s3_project_dir, s3_run_dir, 'batch_report_ky.csv'))"
   ]
  },
  {
   "cell_type": "markdown",
   "metadata": {},
   "source": [
    "#### validate outputs"
   ]
  },
  {
   "cell_type": "code",
   "execution_count": null,
   "metadata": {},
   "outputs": [],
   "source": [
    "from io import StringIO\n",
    "content = bucket.Object(os.path.join(s3_run_dir,'batch_report.csv')).get()['Body'].read().decode('utf-8')\n",
    "df = pd.read_csv(StringIO(content))\n",
    "df.head()"
   ]
  },
  {
   "cell_type": "code",
   "execution_count": null,
   "metadata": {},
   "outputs": [],
   "source": [
    "# check whether the email body is eligible \n",
    "from IPython.core.display import display, HTML\n",
    "display(HTML(df.body[0]))"
   ]
  },
  {
   "cell_type": "markdown",
   "metadata": {},
   "source": [
    "### Step 7:  save logging file to s3 bucket\n",
    "\n",
    "In this step, we save the logging file to s3 bucket. We should expect to retrieve the file from the bucket and print it out. "
   ]
  },
  {
   "cell_type": "markdown",
   "metadata": {},
   "source": [
    "#### code block"
   ]
  },
  {
   "cell_type": "code",
   "execution_count": null,
   "metadata": {},
   "outputs": [],
   "source": [
    "logger.info('========= 7/7 Saving logging file to s3 bucket =========')\n",
    "logger.info(f'Script FINISHED. Log file saved in S3 bucket {s3_log_dir}. Note: not yet synced with Sherlock oak folder.')\n",
    "logger_obj = bucket.Object(os.path.join(s3_log_dir, 'whippet_sender.log'))\n",
    "logger_obj.put(Body=log_capture_string.getvalue())\n",
    "\n",
    "print(\"===== Finish running whippet sender =====\")"
   ]
  },
  {
   "cell_type": "markdown",
   "metadata": {},
   "source": [
    "#### validate output"
   ]
  },
  {
   "cell_type": "code",
   "execution_count": null,
   "metadata": {},
   "outputs": [],
   "source": [
    "s3_content = bucket.Object(os.path.join(s3_log_dir,'whippet_sender.log')).get()['Body'].read().decode('utf-8')\n",
    "print(s3_content)"
   ]
  },
  {
   "cell_type": "markdown",
   "metadata": {},
   "source": [
    "---\n",
    "End of notebook"
   ]
  }
 ],
 "metadata": {
  "kernelspec": {
   "display_name": "Python 3 (ipykernel)",
   "language": "python",
   "name": "python3"
  },
  "language_info": {
   "codemirror_mode": {
    "name": "ipython",
    "version": 3
   },
   "file_extension": ".py",
   "mimetype": "text/x-python",
   "name": "python",
   "nbconvert_exporter": "python",
   "pygments_lexer": "ipython3",
   "version": "3.9.12"
  }
 },
 "nbformat": 4,
 "nbformat_minor": 4
}
