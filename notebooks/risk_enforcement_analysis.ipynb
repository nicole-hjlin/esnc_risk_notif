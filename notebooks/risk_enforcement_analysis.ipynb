{
 "cells": [
  {
   "cell_type": "markdown",
   "metadata": {},
   "source": [
    "## ESNC Risk and Enforcement Status Analysis\n",
    "\n",
    "We want to identify \n",
    "\n",
    "1. high-risk facilities already under enforcement actions\n",
    "2. high-risk facilities not under enforcement actions\n",
    "3. low-risk facilities \n",
    "\n",
    "and see if there are any disparate impacts."
   ]
  },
  {
   "cell_type": "code",
   "execution_count": null,
   "metadata": {},
   "outputs": [],
   "source": [
    "import os\n",
    "\n",
    "import pandas as pd\n",
    "import numpy as np \n",
    "from datetime import datetime as dt\n",
    "import matplotlib.pyplot as plt\n",
    "import sqlalchemy as sa\n",
    "\n",
    "# set up connection with the database\n",
    "DB_URI = os.getenv('EPA_DWH')\n",
    "ENGINE = sa.create_engine(DB_URI)\n",
    "\n",
    "pd.set_option(\"display.max_columns\", None)"
   ]
  },
  {
   "cell_type": "markdown",
   "metadata": {},
   "source": [
    "### Read  Data"
   ]
  },
  {
   "cell_type": "code",
   "execution_count": null,
   "metadata": {},
   "outputs": [],
   "source": [
    "# risk scores from 2019 \n",
    "\n",
    "query = \"\"\"\n",
    "SELECT\n",
    "  *\n",
    "FROM\n",
    "  model_outputs.effluent_snc_status_nicole\n",
    "WHERE\n",
    "  model_id = 'esnc_selection_bias_2021-09-15_125956_382422'\n",
    "  AND calendar_quarter_start_date >= timestamp '2018-10-01'\n",
    "  AND calendar_quarter_start_date <= timestamp '2019-07-01'\n",
    "\"\"\"\n",
    "\n",
    "with ENGINE.begin() as conn:\n",
    "    scores = pd.read_sql(query, conn)\n",
    "\n",
    "scores.head()"
   ]
  },
  {
   "cell_type": "code",
   "execution_count": null,
   "metadata": {},
   "outputs": [],
   "source": [
    "# enforcement data from icis\n",
    "\n",
    "data_dir = '~/sherlock_oak/EPA/Data/manual'\n",
    "# icis enforcement records with npdes closed dates\n",
    "enf = pd.read_csv(os.path.join(data_dir, 'icis_enf_conclusion_2021-09-27.csv'), encoding='latin1')\n",
    "# icis enforcement and facility cross-walk \n",
    "enf_xref = pd.read_csv(os.path.join(data_dir, 'xref_enf_conclusion_facility_2021-09-28.csv'), encoding='latin1')\n",
    "enf_xref.ICIS_FACILITY_INTEREST_ID = [str(i) for i in enf_xref.ICIS_FACILITY_INTEREST_ID]"
   ]
  },
  {
   "cell_type": "code",
   "execution_count": null,
   "metadata": {},
   "outputs": [],
   "source": [
    "# icis facilities data from icis\n",
    "\n",
    "query = \"\"\"\n",
    "SELECT \n",
    "    DISTINCT npdes_permit_id,\n",
    "    icis_facility_interest_id\n",
    "FROM \n",
    "    icis.facilities\n",
    "\"\"\"\n",
    "\n",
    "with ENGINE.begin() as conn:\n",
    "    facilities = pd.read_sql(query, conn)\n",
    "\n",
    "facilities.head()"
   ]
  },
  {
   "cell_type": "markdown",
   "metadata": {},
   "source": [
    "### Merge Data"
   ]
  },
  {
   "cell_type": "code",
   "execution_count": null,
   "metadata": {},
   "outputs": [],
   "source": [
    "enf.SETTLEMENT_ENTERED_DATE = pd.to_datetime(enf.SETTLEMENT_ENTERED_DATE)\n",
    "enf.NPDES_CLOSED_DATE = pd.to_datetime(enf.NPDES_CLOSED_DATE)"
   ]
  },
  {
   "cell_type": "code",
   "execution_count": null,
   "metadata": {},
   "outputs": [],
   "source": [
    "enf_merged = pd.merge(enf, enf_xref[['ICIS_FACILITY_INTEREST_ID', 'ENF_CONCLUSION_ID']], how = 'left')\n",
    "enf_merged = enf_merged.rename(columns = {'ICIS_FACILITY_INTEREST_ID': 'icis_facility_interest_id'})\n",
    "enf_merged = pd.merge(enf_merged, facilities, how = 'left')"
   ]
  },
  {
   "cell_type": "code",
   "execution_count": null,
   "metadata": {},
   "outputs": [],
   "source": [
    "print(f\"{sum(enf_merged.npdes_permit_id.isna()/len(enf_merged))*100}% enforcement records have no matched npdes permit ids.\")\n",
    "enf_trim = enf_merged[~enf_merged.npdes_permit_id.isna()]"
   ]
  },
  {
   "cell_type": "code",
   "execution_count": null,
   "metadata": {},
   "outputs": [],
   "source": [
    "enf_trim"
   ]
  },
  {
   "cell_type": "code",
   "execution_count": null,
   "metadata": {},
   "outputs": [],
   "source": [
    "# generate an under_enf_flag for each permit-quarter\n",
    "quarters = scores.calendar_quarter_start_date.unique()\n",
    "dfs = []\n",
    "for q in quarters: \n",
    "    df = enf_trim[['npdes_permit_id', 'SETTLEMENT_ENTERED_DATE', 'NPDES_CLOSED_DATE']]\n",
    "    under_enf = df[(df.SETTLEMENT_ENTERED_DATE <= q) & ((df.NPDES_CLOSED_DATE.isna()) | (df.NPDES_CLOSED_DATE >= q))]\n",
    "    under_enf['calendar_quarter_start_date'] = q\n",
    "    under_enf['under_enf_flag'] = True\n",
    "    dfs.append(under_enf)\n",
    "\n",
    "enf_status = pd.concat(dfs)"
   ]
  },
  {
   "cell_type": "code",
   "execution_count": null,
   "metadata": {},
   "outputs": [],
   "source": [
    "merged = pd.merge(scores[['npdes_permit_id', 'calendar_quarter_start_date', 'score']], enf_status[['npdes_permit_id', 'calendar_quarter_start_date', 'under_enf_flag']], how = 'left')\n",
    "merged.under_enf_flag = merged.under_enf_flag.fillna(False)\n",
    "merged"
   ]
  },
  {
   "cell_type": "code",
   "execution_count": null,
   "metadata": {},
   "outputs": [],
   "source": [
    "for i, q in enumerate(quarters):\n",
    "    df = merged[merged.calendar_quarter_start_date == q]\n",
    "    plt.title(q)\n",
    "    plt.hist(df[df.under_enf_flag].score, bins = 30, alpha = 0.5)\n",
    "    plt.hist(df[~df.under_enf_flag].score, bins = 30, alpha = 0.5)\n",
    "    plt.legend(['under enf', 'not under enf'])\n",
    "    plt.xlabel('score')\n",
    "    plt.ylabel('permit count')\n",
    "    plt.show()"
   ]
  },
  {
   "cell_type": "code",
   "execution_count": null,
   "metadata": {},
   "outputs": [],
   "source": [
    "merged['predicted_esnc_flag'] = merged.score > 0.39\n",
    "fac_count = merged.groupby(['predicted_esnc_flag'])['under_enf_flag'].count().to_frame().reset_index()\n",
    "enf_count = merged.groupby(['predicted_esnc_flag'])['under_enf_flag'].sum().to_frame().reset_index()\n",
    "fac_count.columns = ['predicted_esnc_flag', 'fac_count']\n",
    "enf_count.columns = ['predicted_esnc_flag', 'enf_count']\n",
    "counts = pd.merge(fac_count, enf_count)\n",
    "counts['under_enf_rate'] = counts.enf_count/counts.fac_count\n",
    "counts"
   ]
  },
  {
   "cell_type": "code",
   "execution_count": null,
   "metadata": {},
   "outputs": [],
   "source": [
    "# overall\n",
    "thresholds = np.linspace(0.01, 0.99, 100)\n",
    "rates = []\n",
    "for t in thresholds: \n",
    "    df = merged.copy()\n",
    "    df['predicted_esnc_flag'] = df.score > t\n",
    "    fac_count = df.groupby(['predicted_esnc_flag'])['under_enf_flag'].count().to_frame().reset_index()\n",
    "    enf_count = df.groupby(['predicted_esnc_flag'])['under_enf_flag'].sum().to_frame().reset_index()\n",
    "    fac_count.columns = ['predicted_esnc_flag', 'fac_count']\n",
    "    enf_count.columns = ['predicted_esnc_flag', 'enf_count']\n",
    "    counts = pd.merge(fac_count, enf_count)\n",
    "    counts['under_enf_rate'] = counts.enf_count/counts.fac_count\n",
    "    pred_under_enf_rate = counts[counts.predicted_esnc_flag]['under_enf_rate'][1]\n",
    "    rates.append(pred_under_enf_rate)"
   ]
  },
  {
   "cell_type": "code",
   "execution_count": null,
   "metadata": {},
   "outputs": [],
   "source": [
    "plt.plot(thresholds, rates)\n",
    "plt.xlabel('classification thresholds')\n",
    "plt.ylabel('proportion of predicted ESNC facilities \\nunder enforcement actions')\n",
    "plt.show()"
   ]
  },
  {
   "cell_type": "code",
   "execution_count": null,
   "metadata": {},
   "outputs": [],
   "source": [
    "s = 'CA'\n",
    "state_df = merged[merged.permit_state == s]\n",
    "thresholds = np.linspace(0.001, 0.999, 100)\n",
    "rates = []\n",
    "for t in thresholds: \n",
    "    df = state_df.copy()\n",
    "    df['predicted_esnc_flag'] = df.score > t\n",
    "    fac_count = df.groupby(['predicted_esnc_flag'])['under_enf_flag'].count().to_frame().reset_index()\n",
    "    enf_count = df.groupby(['predicted_esnc_flag'])['under_enf_flag'].sum().to_frame().reset_index()\n",
    "    fac_count.columns = ['predicted_esnc_flag', 'fac_count']\n",
    "    enf_count.columns = ['predicted_esnc_flag', 'enf_count']\n",
    "    counts = pd.merge(fac_count, enf_count)\n",
    "    counts['under_enf_rate'] = counts.enf_count/counts.fac_count\n",
    "counts"
   ]
  },
  {
   "cell_type": "code",
   "execution_count": null,
   "metadata": {},
   "outputs": [],
   "source": [
    "# by states\n",
    "merged['permit_state'] = [i[:2] for i in merged.npdes_permit_id]\n",
    "states = merged.permit_state.unique()\n",
    "for s in states: \n",
    "    state_df = merged[merged.permit_state == s]\n",
    "    thresholds = np.linspace(0.001, 0.999, 100)\n",
    "    rates = []\n",
    "    for t in thresholds: \n",
    "        df = state_df.copy()\n",
    "        df['predicted_esnc_flag'] = df.score > t\n",
    "        fac_count = df.groupby(['predicted_esnc_flag'])['under_enf_flag'].count().to_frame().reset_index()\n",
    "        enf_count = df.groupby(['predicted_esnc_flag'])['under_enf_flag'].sum().to_frame().reset_index()\n",
    "        fac_count.columns = ['predicted_esnc_flag', 'fac_count']\n",
    "        enf_count.columns = ['predicted_esnc_flag', 'enf_count']\n",
    "        counts = pd.merge(fac_count, enf_count)\n",
    "        counts['under_enf_rate'] = counts.enf_count/counts.fac_count\n",
    "        try:\n",
    "            pred_under_enf_rate = counts[counts.predicted_esnc_flag]['under_enf_rate'][1]\n",
    "        except: \n",
    "            pred_under_enf_rate = 0\n",
    "        rates.append(pred_under_enf_rate)\n",
    "    plt.title(s)\n",
    "    plt.plot(thresholds, rates)\n",
    "    plt.xlabel('classification thresholds')\n",
    "    plt.ylabel('proportion of predicted ESNC facilities \\nunder enforcement actions')\n",
    "    plt.show()"
   ]
  },
  {
   "cell_type": "code",
   "execution_count": null,
   "metadata": {},
   "outputs": [],
   "source": [
    "data_dir = '~/sherlock_oak/EPA/Data/processed'\n",
    "merged.to_csv(os.path.join(data_dir, 'esnc_risk_enforcement.csv'))"
   ]
  }
 ],
 "metadata": {
  "kernelspec": {
   "display_name": "Python 3 (ipykernel)",
   "language": "python",
   "name": "python3"
  },
  "language_info": {
   "codemirror_mode": {
    "name": "ipython",
    "version": 3
   },
   "file_extension": ".py",
   "mimetype": "text/x-python",
   "name": "python",
   "nbconvert_exporter": "python",
   "pygments_lexer": "ipython3",
   "version": "3.9.12"
  }
 },
 "nbformat": 4,
 "nbformat_minor": 4
}
